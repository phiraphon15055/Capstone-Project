{
 "cells": [
  {
   "cell_type": "markdown",
   "metadata": {},
   "source": [
    "# The Battle of the Neighborhoods - Week 1"
   ]
  },
  {
   "cell_type": "markdown",
   "metadata": {},
   "source": [
    "### A description of the problem and a discussion of the background."
   ]
  },
  {
   "cell_type": "markdown",
   "metadata": {},
   "source": [
    "The travel agency need to open a travel package to bring tourist into New York City\n",
    "\n",
    "First, the travel agency have to mining data into New York City because they have to make package that is interesting more than other travel package from other travel agencys and this package have to provide the best experience to its clients.\n",
    "\n",
    "Next, they have to find area that able to be response to tourist by that area must have many the venues that interesting so they want to count the venues of each neiborhood and identify some distinct area and provides tour guide to walk through some of the areas with tourist for make their happy and successful in besiness."
   ]
  },
  {
   "cell_type": "markdown",
   "metadata": {},
   "source": [
    "### A description of the data and how it will be used to solve the problem."
   ]
  },
  {
   "cell_type": "markdown",
   "metadata": {},
   "source": [
    "For this project I will use the data is New York City data that contains list Boroughs, Neighborhoods along with their latitude and longitude and The map data is available through Foursquare API, and the neighborhood information can be found online through zipcode.\n",
    "\n",
    "And I will use data to examine each cluster and determine the discriminating venue categories that distinguish each cluster to creating the database each area and design the travel package that suitable to my tourist"
   ]
  },
  {
   "cell_type": "code",
   "execution_count": null,
   "metadata": {},
   "outputs": [],
   "source": []
  }
 ],
 "metadata": {
  "kernelspec": {
   "display_name": "Python 3",
   "language": "python",
   "name": "python3"
  },
  "language_info": {
   "codemirror_mode": {
    "name": "ipython",
    "version": 3
   },
   "file_extension": ".py",
   "mimetype": "text/x-python",
   "name": "python",
   "nbconvert_exporter": "python",
   "pygments_lexer": "ipython3",
   "version": "3.7.6"
  }
 },
 "nbformat": 4,
 "nbformat_minor": 4
}
