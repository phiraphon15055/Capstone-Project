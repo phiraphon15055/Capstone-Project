{
 "cells": [
  {
   "cell_type": "markdown",
   "metadata": {},
   "source": [
    "# The Battle of the Neighborhoods - Week 1"
   ]
  },
  {
   "cell_type": "markdown",
   "metadata": {},
   "source": [
    "## A description of the problem and a discussion of the background."
   ]
  },
  {
   "cell_type": "markdown",
   "metadata": {},
   "source": [
    "The travel agency would like to open a travel package to bring tourist into Toronto City so the travel agency have to understand in this city for creating travel package and finding area where able to be response to tourist by that area should have restaurants, cafe, museum and shopping mall "
   ]
  },
  {
   "cell_type": "markdown",
   "metadata": {},
   "source": [
    "So they have to mining data for counting the venues of each neiborhood and identify some distinct area and provides tour guide to walk through some of the areas with tourist for make their happy and successful in business."
   ]
  }
 ],
 "metadata": {
  "kernelspec": {
   "display_name": "Python 3",
   "language": "python",
   "name": "python3"
  },
  "language_info": {
   "codemirror_mode": {
    "name": "ipython",
    "version": 3
   },
   "file_extension": ".py",
   "mimetype": "text/x-python",
   "name": "python",
   "nbconvert_exporter": "python",
   "pygments_lexer": "ipython3",
   "version": "3.7.4"
  }
 },
 "nbformat": 4,
 "nbformat_minor": 2
}
